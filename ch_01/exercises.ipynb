{
  "nbformat": 4,
  "nbformat_minor": 0,
  "metadata": {
    "kernelspec": {
      "display_name": "Python 3",
      "language": "python",
      "name": "python3"
    },
    "language_info": {
      "codemirror_mode": {
        "name": "ipython",
        "version": 3
      },
      "file_extension": ".py",
      "mimetype": "text/x-python",
      "name": "python",
      "nbconvert_exporter": "python",
      "pygments_lexer": "ipython3",
      "version": "3.7.2"
    },
    "colab": {
      "name": "exercises.ipynb",
      "provenance": []
    }
  },
  "cells": [
    {
      "cell_type": "markdown",
      "metadata": {
        "id": "kp2FYznOFEjd",
        "colab_type": "text"
      },
      "source": [
        "# Coding exercises\n",
        "Exercises 1-3 are thought exercises that don't require coding. \n",
        "\n",
        "## Exercise 4: Generate the data by running this cell\n",
        "This will give you a list of numbers to work with in the remaining exercises."
      ]
    },
    {
      "cell_type": "code",
      "metadata": {
        "id": "1EBHH3nwFEjf",
        "colab_type": "code",
        "colab": {}
      },
      "source": [
        "import random\n",
        "random.seed(0)\n",
        "salaries = [round(random.random()*1000000, -3) for _ in range(100)]"
      ],
      "execution_count": 0,
      "outputs": []
    },
    {
      "cell_type": "markdown",
      "metadata": {
        "id": "1ey5elt1FEjk",
        "colab_type": "text"
      },
      "source": [
        "## Exercise 5: Calculating statistics and verifying\n",
        "### mean"
      ]
    },
    {
      "cell_type": "code",
      "metadata": {
        "id": "C4Dpu0wcFEjk",
        "colab_type": "code",
        "colab": {
          "base_uri": "https://localhost:8080/",
          "height": 34
        },
        "outputId": "765e8eb0-7da7-4fda-917f-dbb697394756"
      },
      "source": [
        " statistics.mean(salaries)"
      ],
      "execution_count": 10,
      "outputs": [
        {
          "output_type": "execute_result",
          "data": {
            "text/plain": [
              "585690.0"
            ]
          },
          "metadata": {
            "tags": []
          },
          "execution_count": 10
        }
      ]
    },
    {
      "cell_type": "markdown",
      "metadata": {
        "id": "Ey2_uEUcFEjn",
        "colab_type": "text"
      },
      "source": [
        "### median"
      ]
    },
    {
      "cell_type": "code",
      "metadata": {
        "id": "r1-dPYwiFEjo",
        "colab_type": "code",
        "colab": {
          "base_uri": "https://localhost:8080/",
          "height": 34
        },
        "outputId": "8339686b-b17e-4c7f-f1b1-b44dfd580bb1"
      },
      "source": [
        "statistics.median(salaries)"
      ],
      "execution_count": 11,
      "outputs": [
        {
          "output_type": "execute_result",
          "data": {
            "text/plain": [
              "589000.0"
            ]
          },
          "metadata": {
            "tags": []
          },
          "execution_count": 11
        }
      ]
    },
    {
      "cell_type": "markdown",
      "metadata": {
        "id": "qMWYiLbrFEjq",
        "colab_type": "text"
      },
      "source": [
        "### mode"
      ]
    },
    {
      "cell_type": "code",
      "metadata": {
        "id": "AN31Dzy6FEjr",
        "colab_type": "code",
        "colab": {
          "base_uri": "https://localhost:8080/",
          "height": 34
        },
        "outputId": "e2efc54d-1851-4f24-c7b8-3fab0aaef8ab"
      },
      "source": [
        "statistics.mode(salaries)"
      ],
      "execution_count": 12,
      "outputs": [
        {
          "output_type": "execute_result",
          "data": {
            "text/plain": [
              "477000.0"
            ]
          },
          "metadata": {
            "tags": []
          },
          "execution_count": 12
        }
      ]
    },
    {
      "cell_type": "markdown",
      "metadata": {
        "id": "wNmitMyIFEjt",
        "colab_type": "text"
      },
      "source": [
        "### sample variance\n",
        "Remember to use Bessel's correction."
      ]
    },
    {
      "cell_type": "code",
      "metadata": {
        "id": "7723MLIzFEjt",
        "colab_type": "code",
        "colab": {
          "base_uri": "https://localhost:8080/",
          "height": 34
        },
        "outputId": "49b21445-2391-4366-ce6c-25bd1a3fbc41"
      },
      "source": [
        "from statistics import variance\n",
        "t =variance(salaries)\n",
        "t\n",
        "\n",
        "#from fractions import Fraction\n",
        "#variance(salaries)"
      ],
      "execution_count": 18,
      "outputs": [
        {
          "output_type": "execute_result",
          "data": {
            "text/plain": [
              "70664054444.44444"
            ]
          },
          "metadata": {
            "tags": []
          },
          "execution_count": 18
        }
      ]
    },
    {
      "cell_type": "markdown",
      "metadata": {
        "id": "k1LA6rfeFEjw",
        "colab_type": "text"
      },
      "source": [
        "### sample standard deviation\n",
        "Remember to use Bessel's correction."
      ]
    },
    {
      "cell_type": "code",
      "metadata": {
        "id": "JtUDRhMSFEjw",
        "colab_type": "code",
        "colab": {
          "base_uri": "https://localhost:8080/",
          "height": 34
        },
        "outputId": "44dedab2-99cb-496e-f62c-b0de86a6a1d2"
      },
      "source": [
        "stdev(salaries)"
      ],
      "execution_count": 19,
      "outputs": [
        {
          "output_type": "execute_result",
          "data": {
            "text/plain": [
              "265827.11382484"
            ]
          },
          "metadata": {
            "tags": []
          },
          "execution_count": 19
        }
      ]
    },
    {
      "cell_type": "markdown",
      "metadata": {
        "id": "5sJAyRruFEjz",
        "colab_type": "text"
      },
      "source": [
        "## Exercise 6: Calculating more statistics\n",
        "### range"
      ]
    },
    {
      "cell_type": "code",
      "metadata": {
        "id": "r-BZNj6UFEjz",
        "colab_type": "code",
        "colab": {}
      },
      "source": [
        ""
      ],
      "execution_count": 0,
      "outputs": []
    },
    {
      "cell_type": "markdown",
      "metadata": {
        "id": "Icv2di4hFEj1",
        "colab_type": "text"
      },
      "source": [
        "### coefficient of variation"
      ]
    },
    {
      "cell_type": "code",
      "metadata": {
        "id": "TFU1Q4BqFEj2",
        "colab_type": "code",
        "colab": {}
      },
      "source": [
        ""
      ],
      "execution_count": 0,
      "outputs": []
    },
    {
      "cell_type": "markdown",
      "metadata": {
        "id": "ee6wArmzFEj3",
        "colab_type": "text"
      },
      "source": [
        "### interquartile range"
      ]
    },
    {
      "cell_type": "code",
      "metadata": {
        "id": "_o3RK4DjFEj4",
        "colab_type": "code",
        "colab": {}
      },
      "source": [
        ""
      ],
      "execution_count": 0,
      "outputs": []
    },
    {
      "cell_type": "markdown",
      "metadata": {
        "id": "pNJC4O86FEj6",
        "colab_type": "text"
      },
      "source": [
        "### quartile coefficent of dispersion"
      ]
    },
    {
      "cell_type": "code",
      "metadata": {
        "id": "0eyWz53cFEj6",
        "colab_type": "code",
        "colab": {}
      },
      "source": [
        ""
      ],
      "execution_count": 0,
      "outputs": []
    },
    {
      "cell_type": "markdown",
      "metadata": {
        "id": "8mrOhmzKFEj9",
        "colab_type": "text"
      },
      "source": [
        "## Exercise 7: Scaling data\n",
        "### min-max scaling"
      ]
    },
    {
      "cell_type": "code",
      "metadata": {
        "id": "BAzz-tzFFEj9",
        "colab_type": "code",
        "colab": {}
      },
      "source": [
        ""
      ],
      "execution_count": 0,
      "outputs": []
    },
    {
      "cell_type": "markdown",
      "metadata": {
        "id": "D6sMzFYfFEkA",
        "colab_type": "text"
      },
      "source": [
        "### standardizing"
      ]
    },
    {
      "cell_type": "code",
      "metadata": {
        "id": "rcUyjRpOFEkA",
        "colab_type": "code",
        "colab": {}
      },
      "source": [
        ""
      ],
      "execution_count": 0,
      "outputs": []
    },
    {
      "cell_type": "markdown",
      "metadata": {
        "id": "k9Px8QShFEkC",
        "colab_type": "text"
      },
      "source": [
        "## Exercise 8: Calculating covariance and correlation\n",
        "### covariance"
      ]
    },
    {
      "cell_type": "code",
      "metadata": {
        "id": "KL8C8tlQFEkC",
        "colab_type": "code",
        "colab": {}
      },
      "source": [
        ""
      ],
      "execution_count": 0,
      "outputs": []
    },
    {
      "cell_type": "markdown",
      "metadata": {
        "id": "vF1dy3jGFEkE",
        "colab_type": "text"
      },
      "source": [
        "### Pearson correlation coefficient ($\\rho$)"
      ]
    },
    {
      "cell_type": "code",
      "metadata": {
        "id": "UTPAGL9HFEkE",
        "colab_type": "code",
        "colab": {}
      },
      "source": [
        ""
      ],
      "execution_count": 0,
      "outputs": []
    }
  ]
}